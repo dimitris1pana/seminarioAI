{
 "cells": [
  {
   "cell_type": "code",
   "execution_count": 8,
   "metadata": {},
   "outputs": [],
   "source": [
    "import numpy as np # import numpy library np is an alias"
   ]
  },
  {
   "cell_type": "code",
   "execution_count": 9,
   "metadata": {},
   "outputs": [
    {
     "name": "stdout",
     "output_type": "stream",
     "text": [
      "[[89 85 92]\n",
      " [95 90 90]\n",
      " [78 92 85]\n",
      " [92 88 95]\n",
      " [88 86 95]]\n"
     ]
    }
   ],
   "source": [
    "import numpy as np # import numpy library np is an alias\n",
    "# Create an array of student scores\n",
    "scores = np.array([\n",
    "    [89, 85, 92],  # Scores for John\n",
    "    [95, 90, 90],  # Scores for Anna\n",
    "    [78, 92, 85],  # Scores for Peter\n",
    "    [92, 88, 95],  # Scores for Linda\n",
    "    [88, 86, 95]   # Scores for Mike\n",
    "])\n",
    "\n",
    "print(scores)"
   ]
  },
  {
   "cell_type": "code",
   "execution_count": 10,
   "metadata": {},
   "outputs": [
    {
     "name": "stdout",
     "output_type": "stream",
     "text": [
      "[88.66666667 91.66666667 85.         91.66666667 89.66666667]\n"
     ]
    }
   ],
   "source": [
    "averages = np.mean(scores, axis=1)\n",
    "print(averages) "
   ]
  },
  {
   "cell_type": "code",
   "execution_count": null,
   "metadata": {},
   "outputs": [],
   "source": [
    "top_student_index = np.argmax(averages)\n",
    "print(top_student_index)  # Output: 1 (assuming Anna is the first student with the highest average)"
   ]
  },
  {
   "cell_type": "code",
   "execution_count": null,
   "metadata": {},
   "outputs": [],
   "source": [
    "math_above_90 = scores[:, 0] > 90  # Scores for Math are in the first column\n",
    "print(math_above_90)  # Output: [False  True False  True False]"
   ]
  }
 ],
 "metadata": {
  "kernelspec": {
   "display_name": "Python 3",
   "language": "python",
   "name": "python3"
  },
  "language_info": {
   "codemirror_mode": {
    "name": "ipython",
    "version": 3
   },
   "file_extension": ".py",
   "mimetype": "text/x-python",
   "name": "python",
   "nbconvert_exporter": "python",
   "pygments_lexer": "ipython3",
   "version": "3.8.16"
  },
  "orig_nbformat": 4
 },
 "nbformat": 4,
 "nbformat_minor": 2
}
