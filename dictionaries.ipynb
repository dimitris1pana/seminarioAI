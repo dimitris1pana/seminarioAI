{
 "cells": [
  {
   "cell_type": "code",
   "execution_count": 1,
   "metadata": {},
   "outputs": [
    {
     "name": "stdout",
     "output_type": "stream",
     "text": [
      "{'John': 89, 'Anna': 95, 'Peter': 78, 'Linda': 92, 'Mike': 88}\n"
     ]
    }
   ],
   "source": [
    "# Create a dictionary\n",
    "student_grades = {\n",
    "    'John': 89,\n",
    "    'Anna': 95,\n",
    "    'Peter': 78,\n",
    "    'Linda': 92,\n",
    "    'Mike': 88\n",
    "}\n",
    "print(student_grades)  # Output: {'John': 89, 'Anna': 95, 'Peter': 78, 'Linda': 92, 'Mike': 88}\n"
   ]
  },
  {
   "cell_type": "code",
   "execution_count": 2,
   "metadata": {},
   "outputs": [
    {
     "name": "stdout",
     "output_type": "stream",
     "text": [
      "442\n",
      "Anna\n",
      "5\n"
     ]
    }
   ],
   "source": [
    "# Calculate sum of the grades\n",
    "total = sum(student_grades.values())\n",
    "print(total)  # Output: 442\n",
    "\n",
    "# Find the student with the maximum grade\n",
    "top_student = max(student_grades, key=student_grades.get)\n",
    "print(top_student)  # Output: Anna\n",
    "\n",
    "# Get the number of students\n",
    "num_students = len(student_grades)\n",
    "print(num_students)  # Output: 5\n"
   ]
  },
  {
   "cell_type": "code",
   "execution_count": 3,
   "metadata": {},
   "outputs": [
    {
     "name": "stdout",
     "output_type": "stream",
     "text": [
      "442\n",
      "Anna\n",
      "5\n"
     ]
    }
   ],
   "source": [
    "# Calculate sum of the grades\n",
    "total = sum(student_grades.values())\n",
    "print(total)  # Output: 442\n",
    "\n",
    "# Find the student with the maximum grade\n",
    "top_student = max(student_grades, key=student_grades.get)\n",
    "print(top_student)  # Output: Anna\n",
    "\n",
    "# Get the number of students\n",
    "num_students = len(student_grades)\n",
    "print(num_students)  # Output: 5\n"
   ]
  },
  {
   "cell_type": "code",
   "execution_count": null,
   "metadata": {},
   "outputs": [],
   "source": [
    "# Add a new item to the dictionary\n",
    "student_grades['Sophia'] = 90\n",
    "print(student_grades)  # Output: {'John': 89, 'Anna': 95, 'Peter': 78, 'Linda': 92, 'Mike': 88, 'Sophia': 90}\n",
    "\n",
    "# Modify an item in the dictionary\n",
    "student_grades['John'] = 91\n",
    "print(student_grades)  # Output: {'John': 91, 'Anna': 95, 'Peter': 78, 'Linda': 92, 'Mike': 88, 'Sophia': 90}\n",
    "\n",
    "# Remove an item from the dictionary\n",
    "del student_grades['Peter']\n",
    "print(student_grades)  # Output: {'John': 91, 'Anna': 95, 'Linda': 92, 'Mike': 88, 'Sophia': 90}\n"
   ]
  },
  {
   "cell_type": "code",
   "execution_count": null,
   "metadata": {},
   "outputs": [],
   "source": [
    "# Check if 'Anna' is in the dictionary\n",
    "contains_anna = 'Anna' in student_grades\n",
    "print(contains_anna)  # Output: True\n"
   ]
  }
 ],
 "metadata": {
  "kernelspec": {
   "display_name": "Python 3",
   "language": "python",
   "name": "python3"
  },
  "language_info": {
   "codemirror_mode": {
    "name": "ipython",
    "version": 3
   },
   "file_extension": ".py",
   "mimetype": "text/x-python",
   "name": "python",
   "nbconvert_exporter": "python",
   "pygments_lexer": "ipython3",
   "version": "3.8.16"
  },
  "orig_nbformat": 4
 },
 "nbformat": 4,
 "nbformat_minor": 2
}
