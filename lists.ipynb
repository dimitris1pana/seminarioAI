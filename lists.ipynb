{
 "cells": [
  {
   "cell_type": "code",
   "execution_count": 5,
   "metadata": {},
   "outputs": [
    {
     "name": "stdout",
     "output_type": "stream",
     "text": [
      "[1, 2, 3, 4, 5]\n"
     ]
    }
   ],
   "source": [
    "# Create a list\n",
    "numbers = [1, 2, 3, 4, 5]\n",
    "print(numbers) "
   ]
  },
  {
   "cell_type": "code",
   "execution_count": 6,
   "metadata": {},
   "outputs": [
    {
     "name": "stdout",
     "output_type": "stream",
     "text": [
      "15\n",
      "5\n",
      "1\n",
      "5\n"
     ]
    }
   ],
   "source": [
    "# Calculate sum of the list\n",
    "total = sum(numbers)\n",
    "print(total)  # Output: 15\n",
    "# Find the maximum number in the list\n",
    "max_value = max(numbers)\n",
    "print(max_value)  # Output: 5\n",
    "# Find the minimum number in the list\n",
    "min_value = min(numbers)\n",
    "print(min_value)  # Output: 1\n",
    "# Get the length of the list\n",
    "length = len(numbers)\n",
    "print(length)  # Output: 5"
   ]
  },
  {
   "cell_type": "code",
   "execution_count": 7,
   "metadata": {},
   "outputs": [
    {
     "name": "stdout",
     "output_type": "stream",
     "text": [
      "2\n",
      "True\n"
     ]
    }
   ],
   "source": [
    "# Find the index of number 3 in the list\n",
    "index = numbers.index(3)\n",
    "print(index)  # Output: 2\n",
    "\n",
    "# Check if number 3 is in the list\n",
    "contains_three = 3 in numbers\n",
    "print(contains_three)  # Output: True"
   ]
  }
 ],
 "metadata": {
  "kernelspec": {
   "display_name": "Python 3",
   "language": "python",
   "name": "python3"
  },
  "language_info": {
   "codemirror_mode": {
    "name": "ipython",
    "version": 3
   },
   "file_extension": ".py",
   "mimetype": "text/x-python",
   "name": "python",
   "nbconvert_exporter": "python",
   "pygments_lexer": "ipython3",
   "version": "3.8.16"
  },
  "orig_nbformat": 4
 },
 "nbformat": 4,
 "nbformat_minor": 2
}
